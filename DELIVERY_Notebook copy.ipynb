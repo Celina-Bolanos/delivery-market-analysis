{
 "cells": [
  {
   "cell_type": "code",
   "execution_count": 4,
   "metadata": {},
   "outputs": [
    {
     "name": "stdout",
     "output_type": "stream",
     "text": [
      "2716\n"
     ]
    }
   ],
   "source": [
    "import sqlite3\n",
    "\n",
    "# Connect and attach databases with local paths\n",
    "con = sqlite3.connect(':memory:')  # In-memory connection\n",
    "con.execute(\"ATTACH DATABASE 'databases/deliveroo.db' AS deliveroo\")\n",
    "\n",
    "\n",
    "# JOIN location ID\n",
    "d_loc_rest_query = \"\"\"\n",
    "\n",
    "SELECT \"name, \"postalcode\" AS \"postal_code\", \"latitude\", \"longitude\"\n",
    "FROM \"locations\"\n",
    "JOIN \"restaurants\" ON \"locations\".\"id\" = \"restaurants\".\"location_id\";\"\"\"\n",
    "\n",
    "# Deliveroo restaurant data\n",
    "d_rest_data_query = \"\"\"\n",
    "SELECT \"name\",\"latitude\",\"longitude\",\"address\",\"postal_code\" \n",
    "FROM \"restaurants\";\n",
    "\"\"\"\n",
    "cursor = con.execute(d_rest_data_query)\n",
    "results = cursor.fetchall()\n",
    "print(len(results))\n",
    "\n"
   ]
  },
  {
   "cell_type": "code",
   "execution_count": 3,
   "metadata": {},
   "outputs": [
    {
     "name": "stdout",
     "output_type": "stream",
     "text": [
      "80825\n"
     ]
    }
   ],
   "source": [
    "import sqlite3\n",
    "\n",
    "# Connect and attach databases with local paths\n",
    "con = sqlite3.connect(':memory:')  # In-memory connection\n",
    "con.execute(\"ATTACH DATABASE 'databases/deliveroo.db' AS deliveroo\")\n",
    "con.execute(\"ATTACH DATABASE 'databases/ubereats.db' AS ubereats\")\n",
    "con.execute(\"ATTACH DATABASE 'databases/takeaway.db' AS takeaway\")\n",
    "\n",
    "location_to_restaurants_join = \"\"\"\n",
    "    SELECT \n",
    "    l.id AS location_id,\n",
    "    l.name AS location_name,\n",
    "    l.postalcode AS location_postalcode,\n",
    "    l.latitude AS location_latitude,\n",
    "    l.longitude AS location_longitude,\n",
    "    r.id AS restaurant_id,\n",
    "    r.name AS restaurant_name,\n",
    "    r.latitude AS restaurant_latitude,\n",
    "    r.longitude AS restaurant_longitude,\n",
    "    r.address AS restaurant_address,\n",
    "    r.postal_code AS restaurant_postalcode\n",
    "    FROM locations_to_restaurants AS lr\n",
    "    JOIN locations AS l ON lr.location_id = l.id\n",
    "    JOIN restaurants AS r ON lr.restaurant_id = r.id;\n",
    "\"\"\"\n",
    "\n",
    "cursor = con.execute(location_to_restaurants_join)\n",
    "results = cursor.fetchall()\n",
    "print(len(results))\n"
   ]
  }
 ],
 "metadata": {
  "kernelspec": {
   "display_name": ".conda",
   "language": "python",
   "name": "python3"
  },
  "language_info": {
   "codemirror_mode": {
    "name": "ipython",
    "version": 3
   },
   "file_extension": ".py",
   "mimetype": "text/x-python",
   "name": "python",
   "nbconvert_exporter": "python",
   "pygments_lexer": "ipython3",
   "version": "3.12.7"
  }
 },
 "nbformat": 4,
 "nbformat_minor": 2
}
